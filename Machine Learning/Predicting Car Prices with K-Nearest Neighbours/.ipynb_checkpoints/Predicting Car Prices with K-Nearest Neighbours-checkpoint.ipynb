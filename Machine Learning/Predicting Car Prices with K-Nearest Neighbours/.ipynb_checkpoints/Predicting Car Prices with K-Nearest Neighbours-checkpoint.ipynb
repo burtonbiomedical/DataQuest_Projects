{
 "cells": [
  {
   "cell_type": "markdown",
   "metadata": {
    "collapsed": true
   },
   "source": [
    "<h1>Applying K-Nearest Neighbors: Predicting Car Prices</h1>\n",
    "\n",
    "In the DataQuest Machine Learning course, I explored the fundamentals of machine learning using the k-nearest neighbors algorithm. In this project, I'll practice the machine learning workflow I've learned so far to predict a car's market price using its attributes. The data set I will be working with contains information on various cars. For each car I have information about the technical aspects of the vehicle such as the motor's displacement, the weight of the car, the miles per gallon, how fast the car accelerates, and more."
   ]
  },
  {
   "cell_type": "code",
   "execution_count": 1,
   "metadata": {
    "collapsed": true
   },
   "outputs": [],
   "source": [
    "import pandas as pd\n",
    "import numpy as np\n",
    "from sklearn.model_selection import cross_val_score, KFold\n",
    "from sklearn.neighbors import KNeighborsRegressor\n",
    "from sklearn.metrics import mean_squared_error\n",
    "from sklearn.model_selection import KFold, cross_val_score\n",
    "from collections import defaultdict\n",
    "import matplotlib.pyplot as plt\n",
    "%matplotlib inline"
   ]
  },
  {
   "cell_type": "code",
   "execution_count": 2,
   "metadata": {},
   "outputs": [
    {
     "data": {
      "text/html": [
       "<div>\n",
       "<table border=\"1\" class=\"dataframe\">\n",
       "  <thead>\n",
       "    <tr style=\"text-align: right;\">\n",
       "      <th></th>\n",
       "      <th>3</th>\n",
       "      <th>?</th>\n",
       "      <th>alfa-romero</th>\n",
       "      <th>gas</th>\n",
       "      <th>std</th>\n",
       "      <th>two</th>\n",
       "      <th>convertible</th>\n",
       "      <th>rwd</th>\n",
       "      <th>front</th>\n",
       "      <th>88.60</th>\n",
       "      <th>...</th>\n",
       "      <th>130</th>\n",
       "      <th>mpfi</th>\n",
       "      <th>3.47</th>\n",
       "      <th>2.68</th>\n",
       "      <th>9.00</th>\n",
       "      <th>111</th>\n",
       "      <th>5000</th>\n",
       "      <th>21</th>\n",
       "      <th>27</th>\n",
       "      <th>13495</th>\n",
       "    </tr>\n",
       "  </thead>\n",
       "  <tbody>\n",
       "    <tr>\n",
       "      <th>0</th>\n",
       "      <td>3</td>\n",
       "      <td>?</td>\n",
       "      <td>alfa-romero</td>\n",
       "      <td>gas</td>\n",
       "      <td>std</td>\n",
       "      <td>two</td>\n",
       "      <td>convertible</td>\n",
       "      <td>rwd</td>\n",
       "      <td>front</td>\n",
       "      <td>88.6</td>\n",
       "      <td>...</td>\n",
       "      <td>130</td>\n",
       "      <td>mpfi</td>\n",
       "      <td>3.47</td>\n",
       "      <td>2.68</td>\n",
       "      <td>9.0</td>\n",
       "      <td>111</td>\n",
       "      <td>5000</td>\n",
       "      <td>21</td>\n",
       "      <td>27</td>\n",
       "      <td>16500</td>\n",
       "    </tr>\n",
       "    <tr>\n",
       "      <th>1</th>\n",
       "      <td>1</td>\n",
       "      <td>?</td>\n",
       "      <td>alfa-romero</td>\n",
       "      <td>gas</td>\n",
       "      <td>std</td>\n",
       "      <td>two</td>\n",
       "      <td>hatchback</td>\n",
       "      <td>rwd</td>\n",
       "      <td>front</td>\n",
       "      <td>94.5</td>\n",
       "      <td>...</td>\n",
       "      <td>152</td>\n",
       "      <td>mpfi</td>\n",
       "      <td>2.68</td>\n",
       "      <td>3.47</td>\n",
       "      <td>9.0</td>\n",
       "      <td>154</td>\n",
       "      <td>5000</td>\n",
       "      <td>19</td>\n",
       "      <td>26</td>\n",
       "      <td>16500</td>\n",
       "    </tr>\n",
       "    <tr>\n",
       "      <th>2</th>\n",
       "      <td>2</td>\n",
       "      <td>164</td>\n",
       "      <td>audi</td>\n",
       "      <td>gas</td>\n",
       "      <td>std</td>\n",
       "      <td>four</td>\n",
       "      <td>sedan</td>\n",
       "      <td>fwd</td>\n",
       "      <td>front</td>\n",
       "      <td>99.8</td>\n",
       "      <td>...</td>\n",
       "      <td>109</td>\n",
       "      <td>mpfi</td>\n",
       "      <td>3.19</td>\n",
       "      <td>3.40</td>\n",
       "      <td>10.0</td>\n",
       "      <td>102</td>\n",
       "      <td>5500</td>\n",
       "      <td>24</td>\n",
       "      <td>30</td>\n",
       "      <td>13950</td>\n",
       "    </tr>\n",
       "    <tr>\n",
       "      <th>3</th>\n",
       "      <td>2</td>\n",
       "      <td>164</td>\n",
       "      <td>audi</td>\n",
       "      <td>gas</td>\n",
       "      <td>std</td>\n",
       "      <td>four</td>\n",
       "      <td>sedan</td>\n",
       "      <td>4wd</td>\n",
       "      <td>front</td>\n",
       "      <td>99.4</td>\n",
       "      <td>...</td>\n",
       "      <td>136</td>\n",
       "      <td>mpfi</td>\n",
       "      <td>3.19</td>\n",
       "      <td>3.40</td>\n",
       "      <td>8.0</td>\n",
       "      <td>115</td>\n",
       "      <td>5500</td>\n",
       "      <td>18</td>\n",
       "      <td>22</td>\n",
       "      <td>17450</td>\n",
       "    </tr>\n",
       "    <tr>\n",
       "      <th>4</th>\n",
       "      <td>2</td>\n",
       "      <td>?</td>\n",
       "      <td>audi</td>\n",
       "      <td>gas</td>\n",
       "      <td>std</td>\n",
       "      <td>two</td>\n",
       "      <td>sedan</td>\n",
       "      <td>fwd</td>\n",
       "      <td>front</td>\n",
       "      <td>99.8</td>\n",
       "      <td>...</td>\n",
       "      <td>136</td>\n",
       "      <td>mpfi</td>\n",
       "      <td>3.19</td>\n",
       "      <td>3.40</td>\n",
       "      <td>8.5</td>\n",
       "      <td>110</td>\n",
       "      <td>5500</td>\n",
       "      <td>19</td>\n",
       "      <td>25</td>\n",
       "      <td>15250</td>\n",
       "    </tr>\n",
       "  </tbody>\n",
       "</table>\n",
       "<p>5 rows × 26 columns</p>\n",
       "</div>"
      ],
      "text/plain": [
       "   3    ?  alfa-romero  gas  std   two  convertible  rwd  front  88.60  ...    \\\n",
       "0  3    ?  alfa-romero  gas  std   two  convertible  rwd  front   88.6  ...     \n",
       "1  1    ?  alfa-romero  gas  std   two    hatchback  rwd  front   94.5  ...     \n",
       "2  2  164         audi  gas  std  four        sedan  fwd  front   99.8  ...     \n",
       "3  2  164         audi  gas  std  four        sedan  4wd  front   99.4  ...     \n",
       "4  2    ?         audi  gas  std   two        sedan  fwd  front   99.8  ...     \n",
       "\n",
       "   130  mpfi  3.47  2.68  9.00  111  5000  21  27  13495  \n",
       "0  130  mpfi  3.47  2.68   9.0  111  5000  21  27  16500  \n",
       "1  152  mpfi  2.68  3.47   9.0  154  5000  19  26  16500  \n",
       "2  109  mpfi  3.19  3.40  10.0  102  5500  24  30  13950  \n",
       "3  136  mpfi  3.19  3.40   8.0  115  5500  18  22  17450  \n",
       "4  136  mpfi  3.19  3.40   8.5  110  5500  19  25  15250  \n",
       "\n",
       "[5 rows x 26 columns]"
      ]
     },
     "execution_count": 2,
     "metadata": {},
     "output_type": "execute_result"
    }
   ],
   "source": [
    "cars = pd.read_csv('imports-85.data')\n",
    "cars.head(5)"
   ]
  },
  {
   "cell_type": "markdown",
   "metadata": {},
   "source": [
    "As you can see the data is a little messy. The column names do not match up with the ones in the original data. I will define the column names myself and match them up by passing them into the read_csv call under the names parameter."
   ]
  },
  {
   "cell_type": "code",
   "execution_count": 3,
   "metadata": {
    "collapsed": true
   },
   "outputs": [],
   "source": [
    "cols = ['symboling', 'normalized-losses', 'make', 'fuel-type', 'aspiration', 'num-of-doors', 'body-style', \n",
    "        'drive-wheels', 'engine-location', 'wheel-base', 'length', 'width', 'height', 'curb-weight', 'engine-type', \n",
    "        'num-of-cylinders', 'engine-size', 'fuel-system', 'bore', 'stroke', 'compression-rate', 'horsepower', 'peak-rpm', 'city-mpg', 'highway-mpg', 'price']\n",
    "cars = pd.read_csv('imports-85.data', names=cols)"
   ]
  },
  {
   "cell_type": "code",
   "execution_count": 4,
   "metadata": {},
   "outputs": [
    {
     "data": {
      "text/html": [
       "<div>\n",
       "<table border=\"1\" class=\"dataframe\">\n",
       "  <thead>\n",
       "    <tr style=\"text-align: right;\">\n",
       "      <th></th>\n",
       "      <th>symboling</th>\n",
       "      <th>normalized-losses</th>\n",
       "      <th>make</th>\n",
       "      <th>fuel-type</th>\n",
       "      <th>aspiration</th>\n",
       "      <th>num-of-doors</th>\n",
       "      <th>body-style</th>\n",
       "      <th>drive-wheels</th>\n",
       "      <th>engine-location</th>\n",
       "      <th>wheel-base</th>\n",
       "      <th>...</th>\n",
       "      <th>engine-size</th>\n",
       "      <th>fuel-system</th>\n",
       "      <th>bore</th>\n",
       "      <th>stroke</th>\n",
       "      <th>compression-rate</th>\n",
       "      <th>horsepower</th>\n",
       "      <th>peak-rpm</th>\n",
       "      <th>city-mpg</th>\n",
       "      <th>highway-mpg</th>\n",
       "      <th>price</th>\n",
       "    </tr>\n",
       "  </thead>\n",
       "  <tbody>\n",
       "    <tr>\n",
       "      <th>0</th>\n",
       "      <td>3</td>\n",
       "      <td>?</td>\n",
       "      <td>alfa-romero</td>\n",
       "      <td>gas</td>\n",
       "      <td>std</td>\n",
       "      <td>two</td>\n",
       "      <td>convertible</td>\n",
       "      <td>rwd</td>\n",
       "      <td>front</td>\n",
       "      <td>88.6</td>\n",
       "      <td>...</td>\n",
       "      <td>130</td>\n",
       "      <td>mpfi</td>\n",
       "      <td>3.47</td>\n",
       "      <td>2.68</td>\n",
       "      <td>9.0</td>\n",
       "      <td>111</td>\n",
       "      <td>5000</td>\n",
       "      <td>21</td>\n",
       "      <td>27</td>\n",
       "      <td>13495</td>\n",
       "    </tr>\n",
       "    <tr>\n",
       "      <th>1</th>\n",
       "      <td>3</td>\n",
       "      <td>?</td>\n",
       "      <td>alfa-romero</td>\n",
       "      <td>gas</td>\n",
       "      <td>std</td>\n",
       "      <td>two</td>\n",
       "      <td>convertible</td>\n",
       "      <td>rwd</td>\n",
       "      <td>front</td>\n",
       "      <td>88.6</td>\n",
       "      <td>...</td>\n",
       "      <td>130</td>\n",
       "      <td>mpfi</td>\n",
       "      <td>3.47</td>\n",
       "      <td>2.68</td>\n",
       "      <td>9.0</td>\n",
       "      <td>111</td>\n",
       "      <td>5000</td>\n",
       "      <td>21</td>\n",
       "      <td>27</td>\n",
       "      <td>16500</td>\n",
       "    </tr>\n",
       "    <tr>\n",
       "      <th>2</th>\n",
       "      <td>1</td>\n",
       "      <td>?</td>\n",
       "      <td>alfa-romero</td>\n",
       "      <td>gas</td>\n",
       "      <td>std</td>\n",
       "      <td>two</td>\n",
       "      <td>hatchback</td>\n",
       "      <td>rwd</td>\n",
       "      <td>front</td>\n",
       "      <td>94.5</td>\n",
       "      <td>...</td>\n",
       "      <td>152</td>\n",
       "      <td>mpfi</td>\n",
       "      <td>2.68</td>\n",
       "      <td>3.47</td>\n",
       "      <td>9.0</td>\n",
       "      <td>154</td>\n",
       "      <td>5000</td>\n",
       "      <td>19</td>\n",
       "      <td>26</td>\n",
       "      <td>16500</td>\n",
       "    </tr>\n",
       "    <tr>\n",
       "      <th>3</th>\n",
       "      <td>2</td>\n",
       "      <td>164</td>\n",
       "      <td>audi</td>\n",
       "      <td>gas</td>\n",
       "      <td>std</td>\n",
       "      <td>four</td>\n",
       "      <td>sedan</td>\n",
       "      <td>fwd</td>\n",
       "      <td>front</td>\n",
       "      <td>99.8</td>\n",
       "      <td>...</td>\n",
       "      <td>109</td>\n",
       "      <td>mpfi</td>\n",
       "      <td>3.19</td>\n",
       "      <td>3.40</td>\n",
       "      <td>10.0</td>\n",
       "      <td>102</td>\n",
       "      <td>5500</td>\n",
       "      <td>24</td>\n",
       "      <td>30</td>\n",
       "      <td>13950</td>\n",
       "    </tr>\n",
       "    <tr>\n",
       "      <th>4</th>\n",
       "      <td>2</td>\n",
       "      <td>164</td>\n",
       "      <td>audi</td>\n",
       "      <td>gas</td>\n",
       "      <td>std</td>\n",
       "      <td>four</td>\n",
       "      <td>sedan</td>\n",
       "      <td>4wd</td>\n",
       "      <td>front</td>\n",
       "      <td>99.4</td>\n",
       "      <td>...</td>\n",
       "      <td>136</td>\n",
       "      <td>mpfi</td>\n",
       "      <td>3.19</td>\n",
       "      <td>3.40</td>\n",
       "      <td>8.0</td>\n",
       "      <td>115</td>\n",
       "      <td>5500</td>\n",
       "      <td>18</td>\n",
       "      <td>22</td>\n",
       "      <td>17450</td>\n",
       "    </tr>\n",
       "  </tbody>\n",
       "</table>\n",
       "<p>5 rows × 26 columns</p>\n",
       "</div>"
      ],
      "text/plain": [
       "   symboling normalized-losses         make fuel-type aspiration num-of-doors  \\\n",
       "0          3                 ?  alfa-romero       gas        std          two   \n",
       "1          3                 ?  alfa-romero       gas        std          two   \n",
       "2          1                 ?  alfa-romero       gas        std          two   \n",
       "3          2               164         audi       gas        std         four   \n",
       "4          2               164         audi       gas        std         four   \n",
       "\n",
       "    body-style drive-wheels engine-location  wheel-base  ...    engine-size  \\\n",
       "0  convertible          rwd           front        88.6  ...            130   \n",
       "1  convertible          rwd           front        88.6  ...            130   \n",
       "2    hatchback          rwd           front        94.5  ...            152   \n",
       "3        sedan          fwd           front        99.8  ...            109   \n",
       "4        sedan          4wd           front        99.4  ...            136   \n",
       "\n",
       "   fuel-system  bore  stroke compression-rate horsepower  peak-rpm city-mpg  \\\n",
       "0         mpfi  3.47    2.68              9.0        111      5000       21   \n",
       "1         mpfi  3.47    2.68              9.0        111      5000       21   \n",
       "2         mpfi  2.68    3.47              9.0        154      5000       19   \n",
       "3         mpfi  3.19    3.40             10.0        102      5500       24   \n",
       "4         mpfi  3.19    3.40              8.0        115      5500       18   \n",
       "\n",
       "  highway-mpg  price  \n",
       "0          27  13495  \n",
       "1          27  16500  \n",
       "2          26  16500  \n",
       "3          30  13950  \n",
       "4          22  17450  \n",
       "\n",
       "[5 rows x 26 columns]"
      ]
     },
     "execution_count": 4,
     "metadata": {},
     "output_type": "execute_result"
    }
   ],
   "source": [
    "cars.head(5)"
   ]
  },
  {
   "cell_type": "markdown",
   "metadata": {},
   "source": [
    "For my predictive model I only want feature columns that contain numeric and orginal values. Below I have selected columns that fit this criteria ."
   ]
  },
  {
   "cell_type": "code",
   "execution_count": 5,
   "metadata": {},
   "outputs": [
    {
     "data": {
      "text/html": [
       "<div>\n",
       "<table border=\"1\" class=\"dataframe\">\n",
       "  <thead>\n",
       "    <tr style=\"text-align: right;\">\n",
       "      <th></th>\n",
       "      <th>normalized-losses</th>\n",
       "      <th>wheel-base</th>\n",
       "      <th>length</th>\n",
       "      <th>width</th>\n",
       "      <th>height</th>\n",
       "      <th>curb-weight</th>\n",
       "      <th>bore</th>\n",
       "      <th>stroke</th>\n",
       "      <th>compression-rate</th>\n",
       "      <th>horsepower</th>\n",
       "      <th>peak-rpm</th>\n",
       "      <th>city-mpg</th>\n",
       "      <th>highway-mpg</th>\n",
       "      <th>price</th>\n",
       "    </tr>\n",
       "  </thead>\n",
       "  <tbody>\n",
       "    <tr>\n",
       "      <th>0</th>\n",
       "      <td>?</td>\n",
       "      <td>88.6</td>\n",
       "      <td>168.8</td>\n",
       "      <td>64.1</td>\n",
       "      <td>48.8</td>\n",
       "      <td>2548</td>\n",
       "      <td>3.47</td>\n",
       "      <td>2.68</td>\n",
       "      <td>9.0</td>\n",
       "      <td>111</td>\n",
       "      <td>5000</td>\n",
       "      <td>21</td>\n",
       "      <td>27</td>\n",
       "      <td>13495</td>\n",
       "    </tr>\n",
       "    <tr>\n",
       "      <th>1</th>\n",
       "      <td>?</td>\n",
       "      <td>88.6</td>\n",
       "      <td>168.8</td>\n",
       "      <td>64.1</td>\n",
       "      <td>48.8</td>\n",
       "      <td>2548</td>\n",
       "      <td>3.47</td>\n",
       "      <td>2.68</td>\n",
       "      <td>9.0</td>\n",
       "      <td>111</td>\n",
       "      <td>5000</td>\n",
       "      <td>21</td>\n",
       "      <td>27</td>\n",
       "      <td>16500</td>\n",
       "    </tr>\n",
       "    <tr>\n",
       "      <th>2</th>\n",
       "      <td>?</td>\n",
       "      <td>94.5</td>\n",
       "      <td>171.2</td>\n",
       "      <td>65.5</td>\n",
       "      <td>52.4</td>\n",
       "      <td>2823</td>\n",
       "      <td>2.68</td>\n",
       "      <td>3.47</td>\n",
       "      <td>9.0</td>\n",
       "      <td>154</td>\n",
       "      <td>5000</td>\n",
       "      <td>19</td>\n",
       "      <td>26</td>\n",
       "      <td>16500</td>\n",
       "    </tr>\n",
       "    <tr>\n",
       "      <th>3</th>\n",
       "      <td>164</td>\n",
       "      <td>99.8</td>\n",
       "      <td>176.6</td>\n",
       "      <td>66.2</td>\n",
       "      <td>54.3</td>\n",
       "      <td>2337</td>\n",
       "      <td>3.19</td>\n",
       "      <td>3.40</td>\n",
       "      <td>10.0</td>\n",
       "      <td>102</td>\n",
       "      <td>5500</td>\n",
       "      <td>24</td>\n",
       "      <td>30</td>\n",
       "      <td>13950</td>\n",
       "    </tr>\n",
       "    <tr>\n",
       "      <th>4</th>\n",
       "      <td>164</td>\n",
       "      <td>99.4</td>\n",
       "      <td>176.6</td>\n",
       "      <td>66.4</td>\n",
       "      <td>54.3</td>\n",
       "      <td>2824</td>\n",
       "      <td>3.19</td>\n",
       "      <td>3.40</td>\n",
       "      <td>8.0</td>\n",
       "      <td>115</td>\n",
       "      <td>5500</td>\n",
       "      <td>18</td>\n",
       "      <td>22</td>\n",
       "      <td>17450</td>\n",
       "    </tr>\n",
       "  </tbody>\n",
       "</table>\n",
       "</div>"
      ],
      "text/plain": [
       "  normalized-losses  wheel-base  length  width  height  curb-weight  bore  \\\n",
       "0                 ?        88.6   168.8   64.1    48.8         2548  3.47   \n",
       "1                 ?        88.6   168.8   64.1    48.8         2548  3.47   \n",
       "2                 ?        94.5   171.2   65.5    52.4         2823  2.68   \n",
       "3               164        99.8   176.6   66.2    54.3         2337  3.19   \n",
       "4               164        99.4   176.6   66.4    54.3         2824  3.19   \n",
       "\n",
       "  stroke  compression-rate horsepower peak-rpm  city-mpg  highway-mpg  price  \n",
       "0   2.68               9.0        111     5000        21           27  13495  \n",
       "1   2.68               9.0        111     5000        21           27  16500  \n",
       "2   3.47               9.0        154     5000        19           26  16500  \n",
       "3   3.40              10.0        102     5500        24           30  13950  \n",
       "4   3.40               8.0        115     5500        18           22  17450  "
      ]
     },
     "execution_count": 5,
     "metadata": {},
     "output_type": "execute_result"
    }
   ],
   "source": [
    "ordinal_values_cols = ['normalized-losses', 'wheel-base', 'length', 'width', 'height', 'curb-weight', 'bore', 'stroke', 'compression-rate', 'horsepower', 'peak-rpm', 'city-mpg', 'highway-mpg', 'price']\n",
    "car_features = cars[ordinal_values_cols]\n",
    "car_features.head(5)"
   ]
  },
  {
   "cell_type": "markdown",
   "metadata": {},
   "source": [
    "When training a predictive model, it is important to not have any missing values. Based on the data set preview from the last step, I can tell that the normalized-losses column contains missing values represented using \"?\". Let's replace these values and look for the presence of missing values in other numeric columns. Let's also normalize the values in all numeric columns so they have a value between zero and one. That way very large values will not have a greater influence, and everything will be relative."
   ]
  },
  {
   "cell_type": "code",
   "execution_count": 6,
   "metadata": {
    "collapsed": true
   },
   "outputs": [],
   "source": [
    "#Replace all ? values with NaN values\n",
    "car_features = car_features.replace('?', np.nan)\n",
    "#Make sure all values are type float\n",
    "car_features = car_features.astype(float)"
   ]
  },
  {
   "cell_type": "markdown",
   "metadata": {},
   "source": [
    "Lets detemine how many rows have missing values and in which columns these missing values exist. If it is a significant quantity, I might need to drop the column, otherwise I will just replace missing values with the average."
   ]
  },
  {
   "cell_type": "code",
   "execution_count": 7,
   "metadata": {},
   "outputs": [
    {
     "data": {
      "text/plain": [
       "normalized-losses    41\n",
       "wheel-base            0\n",
       "length                0\n",
       "width                 0\n",
       "height                0\n",
       "curb-weight           0\n",
       "bore                  4\n",
       "stroke                4\n",
       "compression-rate      0\n",
       "horsepower            2\n",
       "peak-rpm              2\n",
       "city-mpg              0\n",
       "highway-mpg           0\n",
       "price                 4\n",
       "dtype: int64"
      ]
     },
     "execution_count": 7,
     "metadata": {},
     "output_type": "execute_result"
    }
   ],
   "source": [
    "car_features.isnull().sum()"
   ]
  },
  {
   "cell_type": "code",
   "execution_count": 8,
   "metadata": {},
   "outputs": [
    {
     "data": {
      "text/plain": [
       "205"
      ]
     },
     "execution_count": 8,
     "metadata": {},
     "output_type": "execute_result"
    }
   ],
   "source": [
    "car_features.shape[0]"
   ]
  },
  {
   "cell_type": "markdown",
   "metadata": {},
   "source": [
    "The price column contains our label, and so missing data is a big problem here. I will remove these rows to fix this issue."
   ]
  },
  {
   "cell_type": "code",
   "execution_count": 9,
   "metadata": {},
   "outputs": [
    {
     "data": {
      "text/plain": [
       "normalized-losses    37\n",
       "wheel-base            0\n",
       "length                0\n",
       "width                 0\n",
       "height                0\n",
       "curb-weight           0\n",
       "bore                  4\n",
       "stroke                4\n",
       "compression-rate      0\n",
       "horsepower            2\n",
       "peak-rpm              2\n",
       "city-mpg              0\n",
       "highway-mpg           0\n",
       "price                 0\n",
       "dtype: int64"
      ]
     },
     "execution_count": 9,
     "metadata": {},
     "output_type": "execute_result"
    }
   ],
   "source": [
    "car_features = car_features.dropna(subset=['price'])\n",
    "car_features.isnull().sum()"
   ]
  },
  {
   "cell_type": "markdown",
   "metadata": {},
   "source": [
    "With those rows disposed off, I will replace any remaining null values with the mean value of their respective column."
   ]
  },
  {
   "cell_type": "code",
   "execution_count": 10,
   "metadata": {
    "collapsed": true
   },
   "outputs": [],
   "source": [
    "car_features = car_features.fillna(car_features.mean())"
   ]
  },
  {
   "cell_type": "code",
   "execution_count": 11,
   "metadata": {},
   "outputs": [
    {
     "data": {
      "text/plain": [
       "normalized-losses    0\n",
       "wheel-base           0\n",
       "length               0\n",
       "width                0\n",
       "height               0\n",
       "curb-weight          0\n",
       "bore                 0\n",
       "stroke               0\n",
       "compression-rate     0\n",
       "horsepower           0\n",
       "peak-rpm             0\n",
       "city-mpg             0\n",
       "highway-mpg          0\n",
       "price                0\n",
       "dtype: int64"
      ]
     },
     "execution_count": 11,
     "metadata": {},
     "output_type": "execute_result"
    }
   ],
   "source": [
    "car_features.isnull().sum()"
   ]
  },
  {
   "cell_type": "markdown",
   "metadata": {},
   "source": [
    "Fantastic! No more missing data! Now it is time to normalise the data so that they all scale between 0 and 1. The only column I don't want to normalise it the price, as this is the label I will be using for my predictions."
   ]
  },
  {
   "cell_type": "code",
   "execution_count": 12,
   "metadata": {},
   "outputs": [],
   "source": [
    "car_price = car_features['price']\n",
    "normalised_data = (car_features.max() - car_features)/(car_features.max())\n",
    "normalised_data['price'] = car_price"
   ]
  },
  {
   "cell_type": "code",
   "execution_count": 13,
   "metadata": {},
   "outputs": [
    {
     "data": {
      "text/html": [
       "<div>\n",
       "<table border=\"1\" class=\"dataframe\">\n",
       "  <thead>\n",
       "    <tr style=\"text-align: right;\">\n",
       "      <th></th>\n",
       "      <th>normalized-losses</th>\n",
       "      <th>wheel-base</th>\n",
       "      <th>length</th>\n",
       "      <th>width</th>\n",
       "      <th>height</th>\n",
       "      <th>curb-weight</th>\n",
       "      <th>bore</th>\n",
       "      <th>stroke</th>\n",
       "      <th>compression-rate</th>\n",
       "      <th>horsepower</th>\n",
       "      <th>peak-rpm</th>\n",
       "      <th>city-mpg</th>\n",
       "      <th>highway-mpg</th>\n",
       "      <th>price</th>\n",
       "    </tr>\n",
       "  </thead>\n",
       "  <tbody>\n",
       "    <tr>\n",
       "      <th>0</th>\n",
       "      <td>0.523438</td>\n",
       "      <td>0.267163</td>\n",
       "      <td>0.188852</td>\n",
       "      <td>0.109722</td>\n",
       "      <td>0.183946</td>\n",
       "      <td>0.373340</td>\n",
       "      <td>0.119289</td>\n",
       "      <td>0.357314</td>\n",
       "      <td>0.608696</td>\n",
       "      <td>0.576336</td>\n",
       "      <td>0.242424</td>\n",
       "      <td>0.571429</td>\n",
       "      <td>0.500000</td>\n",
       "      <td>13495.0</td>\n",
       "    </tr>\n",
       "    <tr>\n",
       "      <th>1</th>\n",
       "      <td>0.523438</td>\n",
       "      <td>0.267163</td>\n",
       "      <td>0.188852</td>\n",
       "      <td>0.109722</td>\n",
       "      <td>0.183946</td>\n",
       "      <td>0.373340</td>\n",
       "      <td>0.119289</td>\n",
       "      <td>0.357314</td>\n",
       "      <td>0.608696</td>\n",
       "      <td>0.576336</td>\n",
       "      <td>0.242424</td>\n",
       "      <td>0.571429</td>\n",
       "      <td>0.500000</td>\n",
       "      <td>16500.0</td>\n",
       "    </tr>\n",
       "    <tr>\n",
       "      <th>2</th>\n",
       "      <td>0.523438</td>\n",
       "      <td>0.218362</td>\n",
       "      <td>0.177319</td>\n",
       "      <td>0.090278</td>\n",
       "      <td>0.123746</td>\n",
       "      <td>0.305706</td>\n",
       "      <td>0.319797</td>\n",
       "      <td>0.167866</td>\n",
       "      <td>0.608696</td>\n",
       "      <td>0.412214</td>\n",
       "      <td>0.242424</td>\n",
       "      <td>0.612245</td>\n",
       "      <td>0.518519</td>\n",
       "      <td>16500.0</td>\n",
       "    </tr>\n",
       "    <tr>\n",
       "      <th>3</th>\n",
       "      <td>0.359375</td>\n",
       "      <td>0.174524</td>\n",
       "      <td>0.151370</td>\n",
       "      <td>0.080556</td>\n",
       "      <td>0.091973</td>\n",
       "      <td>0.425234</td>\n",
       "      <td>0.190355</td>\n",
       "      <td>0.184652</td>\n",
       "      <td>0.565217</td>\n",
       "      <td>0.610687</td>\n",
       "      <td>0.166667</td>\n",
       "      <td>0.510204</td>\n",
       "      <td>0.444444</td>\n",
       "      <td>13950.0</td>\n",
       "    </tr>\n",
       "    <tr>\n",
       "      <th>4</th>\n",
       "      <td>0.359375</td>\n",
       "      <td>0.177833</td>\n",
       "      <td>0.151370</td>\n",
       "      <td>0.077778</td>\n",
       "      <td>0.091973</td>\n",
       "      <td>0.305460</td>\n",
       "      <td>0.190355</td>\n",
       "      <td>0.184652</td>\n",
       "      <td>0.652174</td>\n",
       "      <td>0.561069</td>\n",
       "      <td>0.166667</td>\n",
       "      <td>0.632653</td>\n",
       "      <td>0.592593</td>\n",
       "      <td>17450.0</td>\n",
       "    </tr>\n",
       "  </tbody>\n",
       "</table>\n",
       "</div>"
      ],
      "text/plain": [
       "   normalized-losses  wheel-base    length     width    height  curb-weight  \\\n",
       "0           0.523438    0.267163  0.188852  0.109722  0.183946     0.373340   \n",
       "1           0.523438    0.267163  0.188852  0.109722  0.183946     0.373340   \n",
       "2           0.523438    0.218362  0.177319  0.090278  0.123746     0.305706   \n",
       "3           0.359375    0.174524  0.151370  0.080556  0.091973     0.425234   \n",
       "4           0.359375    0.177833  0.151370  0.077778  0.091973     0.305460   \n",
       "\n",
       "       bore    stroke  compression-rate  horsepower  peak-rpm  city-mpg  \\\n",
       "0  0.119289  0.357314          0.608696    0.576336  0.242424  0.571429   \n",
       "1  0.119289  0.357314          0.608696    0.576336  0.242424  0.571429   \n",
       "2  0.319797  0.167866          0.608696    0.412214  0.242424  0.612245   \n",
       "3  0.190355  0.184652          0.565217    0.610687  0.166667  0.510204   \n",
       "4  0.190355  0.184652          0.652174    0.561069  0.166667  0.632653   \n",
       "\n",
       "   highway-mpg    price  \n",
       "0     0.500000  13495.0  \n",
       "1     0.500000  16500.0  \n",
       "2     0.518519  16500.0  \n",
       "3     0.444444  13950.0  \n",
       "4     0.592593  17450.0  "
      ]
     },
     "execution_count": 13,
     "metadata": {},
     "output_type": "execute_result"
    }
   ],
   "source": [
    "normalised_data.head(5)"
   ]
  },
  {
   "cell_type": "markdown",
   "metadata": {
    "collapsed": true
   },
   "source": [
    "<h2>Univariant K-nearest Neighbours Model</h2>\n",
    "\n",
    "I will start with a simple univariant model thats making predictions based on a single feature. Starting with simple models before moving to more complex models helps us structure your code workflow and understand the features better.\n",
    "For now we will use test/train validation, and then later we will try cross validation. So in the function below the data will be split evenly into test/train.\n",
    "\n",
    "There are two parameters we can vary with K-Nearest Neighbours, the k value (the number of neighbours) and the amount of features we are using for our comparison.\n",
    "\n",
    "In the function below I will vary the k value, and iterate through each numerical column in the car data. Then I will plot the Root Mean Squared Error for each k value, for each column."
   ]
  },
  {
   "cell_type": "code",
   "execution_count": 14,
   "metadata": {
    "collapsed": true
   },
   "outputs": [],
   "source": [
    "def knn_train_test(df, feature_columns, label_columns,k_range):\n",
    "    \"\"\"Instantiate a K-nearest neighbours model and fit\n",
    "    with data provided\n",
    "    Keyword Arguments:\n",
    "    df -- Pandas dataframe\n",
    "    feature_columns -- columns containing feature elements\n",
    "    label_columns -- columns containing labels\n",
    "    k_range -- k values for knn parameters\"\"\"\n",
    "    rmse_values = {}\n",
    "    #Randomise the dataset\n",
    "    np.random.seed(1)\n",
    "    df = df.reindex(np.random.permutation(df.index))\n",
    "    #Split the data evenly into test set and train set\n",
    "    split_idx = int(df.shape[0]/2)\n",
    "    train = df.iloc[0:split_idx]\n",
    "    test = df.iloc[split_idx:]\n",
    "    for k in k_range:\n",
    "        #Instantiate the KNeighborsRegressor class\n",
    "        knn = KNeighborsRegressor(n_neighbors=k)\n",
    "        #Fit the model with our data\n",
    "        knn.fit(train[feature_columns], train[label_columns])\n",
    "        #Make predictions using the test features\n",
    "        predictions = knn.predict(test[feature_columns])\n",
    "        #Calculate the mean squared error of our prediction\n",
    "        mse = mean_squared_error(test[label_columns], predictions)\n",
    "        #Return the RMSE by taking the square root of the MSE\n",
    "        rmse_values[k] = (np.sqrt(mse))\n",
    "    return rmse_values"
   ]
  },
  {
   "cell_type": "code",
   "execution_count": 15,
   "metadata": {},
   "outputs": [
    {
     "data": {
      "text/plain": [
       "{'bore': {1: 7496.1492312406444,\n",
       "  3: 6936.9888741632003,\n",
       "  5: 6816.8537123691885,\n",
       "  7: 7062.0613050538341,\n",
       "  9: 6869.7274373649016},\n",
       " 'city-mpg': {1: 4540.3610032247389,\n",
       "  3: 4662.4683767438482,\n",
       "  5: 4729.6734209992692,\n",
       "  7: 5099.2742894698586,\n",
       "  9: 4999.2917237740958},\n",
       " 'compression-rate': {1: 9024.9026779536325,\n",
       "  3: 7033.5529229950389,\n",
       "  5: 6736.676353123451,\n",
       "  7: 7459.1131944220724,\n",
       "  9: 7219.385481303907},\n",
       " 'curb-weight': {1: 5518.8832374058084,\n",
       "  3: 5048.6077260366692,\n",
       "  5: 4437.9343946355393,\n",
       "  7: 4369.3490898512136,\n",
       "  9: 4632.2055452210743},\n",
       " 'height': {1: 9108.4718365936551,\n",
       "  3: 8049.9871472883196,\n",
       "  5: 7487.6525188849646,\n",
       "  7: 7753.7974180840583,\n",
       "  9: 7695.632426557866},\n",
       " 'highway-mpg': {1: 5270.360471073066,\n",
       "  3: 4618.1866223408379,\n",
       "  5: 4579.0372499290315,\n",
       "  7: 4914.2600028726101,\n",
       "  9: 5181.9124189636359},\n",
       " 'horsepower': {1: 3749.5962185254293,\n",
       "  3: 3964.9503610053594,\n",
       "  5: 4007.4723516831596,\n",
       "  7: 4391.4816735297054,\n",
       "  9: 4505.1886320053109},\n",
       " 'length': {1: 5291.7851645472883,\n",
       "  3: 5267.2167776785409,\n",
       "  5: 5382.6711551381659,\n",
       "  7: 5396.362242025737,\n",
       "  9: 5420.5479164322587},\n",
       " 'normalized-losses': {1: 7906.5941410250143,\n",
       "  3: 6712.8733553798356,\n",
       "  5: 7635.1704160923791,\n",
       "  7: 7870.6510032392407,\n",
       "  9: 8221.5784655443185},\n",
       " 'peak-rpm': {1: 9825.559283202294,\n",
       "  3: 8025.1729800507092,\n",
       "  5: 7498.7464749413657,\n",
       "  7: 7296.5172664110205,\n",
       "  9: 7239.4781688794701},\n",
       " 'stroke': {1: 7282.3488587810798,\n",
       "  3: 7664.9840308065386,\n",
       "  5: 8078.4912887356768,\n",
       "  7: 7754.4838594616886,\n",
       "  9: 7723.9131538450647},\n",
       " 'wheel-base': {1: 5964.6822353178914,\n",
       "  3: 5246.472910232148,\n",
       "  5: 5527.6824887322919,\n",
       "  7: 5485.6830335257237,\n",
       "  9: 5734.4339857054465},\n",
       " 'width': {1: 4453.161424568767,\n",
       "  3: 4697.2871145506588,\n",
       "  5: 4644.8984285434217,\n",
       "  7: 4562.1341847495605,\n",
       "  9: 4643.8823393933362}}"
      ]
     },
     "execution_count": 15,
     "metadata": {},
     "output_type": "execute_result"
    }
   ],
   "source": [
    "feature_columns = normalised_data.columns.drop('price')\n",
    "column_rmse_values = {}\n",
    "for col in feature_columns:\n",
    "    column_rmse_values[col] = knn_train_test(normalised_data,\n",
    "                                            [col], 'price', \n",
    "                                            [1,3,5,7,9])\n",
    "column_rmse_values"
   ]
  },
  {
   "cell_type": "code",
   "execution_count": 16,
   "metadata": {},
   "outputs": [
    {
     "data": {
      "text/plain": [
       "<function matplotlib.pyplot.show>"
      ]
     },
     "execution_count": 16,
     "metadata": {},
     "output_type": "execute_result"
    },
    {
     "data": {
      "image/png": "[encoded data removed]",
      "text/plain": [
       "<matplotlib.figure.Figure at 0x7fc3220c8f28>"
      ]
     },
     "metadata": {},
     "output_type": "display_data"
    }
   ],
   "source": [
    "fig = plt.figure(figsize=(10,8))\n",
    "for k,v in column_rmse_values.items():\n",
    "    ax = plt.subplot(111)\n",
    "    lists = sorted(column_rmse_values[k].items())\n",
    "    x, y = zip(*lists)\n",
    "    ax.plot(x,y, label = k)\n",
    "ax.set_xlabel('k value')\n",
    "ax.set_ylabel('RMSE')\n",
    "ax.legend(loc='upper center', bbox_to_anchor=(0.5, 1.05),\n",
    "          ncol=3, fancybox=True, shadow=True)\n",
    "plt.show"
   ]
  },
  {
   "cell_type": "markdown",
   "metadata": {},
   "source": [
    "The plot above shows that an optimum k value exists above 3, and the safest bet would be around a value of 5. The columns with the lowest error are 'Horsepower', 'width', 'curb-weight', 'city-mpg', 'highway-mpg', and 'length'. This is possibly suggesting how well known measures of performance, miles per gallon and horsepower, have a powerful influence over price. The other attribute is the size of the vehicle. \n",
    "\n",
    "I will now pass in multiple collumns as feature variables to the k-nearest neighbour function I defined earlier, and will therefore be creating a multi-variant model."
   ]
  },
  {
   "cell_type": "code",
   "execution_count": 17,
   "metadata": {},
   "outputs": [],
   "source": [
    "#We will use a k value of 5\n",
    "k = 5\n",
    "rmse_results = {}\n",
    "two_best_features = ['horsepower', 'width']\n",
    "rmse = knn_train_test(normalised_data, two_best_features, 'price',[k])\n",
    "#The function returns a dictionary, because there is the option\n",
    "#to use multiple k values. We just want the one result for k = 5\n",
    "rmse_results[2] = rmse[5]"
   ]
  },
  {
   "cell_type": "code",
   "execution_count": 18,
   "metadata": {},
   "outputs": [
    {
     "data": {
      "text/plain": [
       "{2: 3681.3980922556266}"
      ]
     },
     "execution_count": 18,
     "metadata": {},
     "output_type": "execute_result"
    }
   ],
   "source": [
    "rmse_results"
   ]
  },
  {
   "cell_type": "markdown",
   "metadata": {},
   "source": [
    "I will now increase the number of features and then plot the results to find the optimum number of features to use"
   ]
  },
  {
   "cell_type": "code",
   "execution_count": 19,
   "metadata": {
    "collapsed": true
   },
   "outputs": [],
   "source": [
    "three_best_features = ['horsepower', 'width', 'curb-weight']\n",
    "four_best_features = ['horsepower', 'width', 'curb-weight', 'city-mpg']\n",
    "five_best_features = ['horsepower', 'width', 'curb-weight' , 'city-mpg' , 'highway-mpg']\n",
    "six_best_features = ['horsepower', 'width', 'curb-weight' , 'city-mpg' , 'highway-mpg', 'length']\n",
    "rmse = knn_train_test(normalised_data, three_best_features, 'price',[k])\n",
    "rmse_results[3] = rmse[5]\n",
    "rmse = knn_train_test(normalised_data, four_best_features, 'price',[k])\n",
    "rmse_results[4] = rmse[5]\n",
    "rmse = knn_train_test(normalised_data, five_best_features, 'price',[k])\n",
    "rmse_results[5] = rmse[5]\n",
    "rmse = knn_train_test(normalised_data, six_best_features, 'price',[k])\n",
    "rmse_results[6] = rmse[5]"
   ]
  },
  {
   "cell_type": "code",
   "execution_count": 20,
   "metadata": {},
   "outputs": [
    {
     "data": {
      "text/plain": [
       "{2: 3681.3980922556266,\n",
       " 3: 3212.5596306057919,\n",
       " 4: 3232.1036292326721,\n",
       " 5: 3346.6737097607775,\n",
       " 6: 3398.1290113563641}"
      ]
     },
     "execution_count": 20,
     "metadata": {},
     "output_type": "execute_result"
    }
   ],
   "source": [
    "rmse_results"
   ]
  },
  {
   "cell_type": "code",
   "execution_count": 21,
   "metadata": {},
   "outputs": [
    {
     "data": {
      "image/png": "[encoded data removed]",
      "text/plain": [
       "<matplotlib.figure.Figure at 0x7fc36d0939e8>"
      ]
     },
     "metadata": {},
     "output_type": "display_data"
    }
   ],
   "source": [
    "y = [v for k,v in rmse_results.items()]\n",
    "x = np.arange(2,7,1)\n",
    "plt.plot(x,y)\n",
    "plt.xlabel('Number of Features')\n",
    "plt.ylabel('RMSE')\n",
    "plt.show()"
   ]
  },
  {
   "cell_type": "markdown",
   "metadata": {},
   "source": [
    "From the graph above it is clear that the optimum number of features is 3 or 4. I will now vary the k value between 1 and 25 for both these features and then plot the results to find the optimum model"
   ]
  },
  {
   "cell_type": "code",
   "execution_count": 22,
   "metadata": {},
   "outputs": [],
   "source": [
    "k = np.arange(1,26,1)"
   ]
  },
  {
   "cell_type": "code",
   "execution_count": 23,
   "metadata": {
    "collapsed": true
   },
   "outputs": [],
   "source": [
    "rmse_values_3 = knn_train_test(normalised_data, three_best_features, 'price',k)\n",
    "rmse_values_4 = knn_train_test(normalised_data, four_best_features, 'price',k)"
   ]
  },
  {
   "cell_type": "code",
   "execution_count": 24,
   "metadata": {},
   "outputs": [
    {
     "data": {
      "text/plain": [
       "<function matplotlib.pyplot.show>"
      ]
     },
     "execution_count": 24,
     "metadata": {},
     "output_type": "execute_result"
    },
    {
     "data": {
      "image/png": "[encoded data removed]",
      "text/plain": [
       "<matplotlib.figure.Figure at 0x7fc36d015fd0>"
      ]
     },
     "metadata": {},
     "output_type": "display_data"
    }
   ],
   "source": [
    "fig = plt.figure(figsize=(10,8))\n",
    "ax = plt.subplot(111)\n",
    "y = [v for k,v in rmse_values_3.items()]\n",
    "x = k\n",
    "ax.plot(x,y, label = 'Three Features')\n",
    "y = [v for k,v in rmse_values_4.items()]\n",
    "x = k\n",
    "ax.plot(x,y, label = 'Four Features')\n",
    "ax.set_xlabel('k value')\n",
    "ax.set_ylabel('RMSE')\n",
    "ax.legend(loc='upper center', bbox_to_anchor=(0.5, 1.05),\n",
    "          ncol=3, fancybox=True, shadow=True)\n",
    "plt.show"
   ]
  },
  {
   "cell_type": "markdown",
   "metadata": {},
   "source": [
    "The optimal k value when using three features is 5, whereas the optimal value when using four features is 2.\n",
    "The difference between the k values is on account of the addition of 'city-mpg' to the prediction model. \n",
    "The best performance comes from the model that takes four features and uses a k value of 2. \n",
    "\n",
    "<h2>K-Fold Cross Validation</h2>\n",
    "\n",
    "Up until now I have been using train/test validation. In train/test validation the model is repeatedly biased towards a specific subset of the data. K-fold cross validation on the other hand, takes advantage of a larger proportion of the dataset during training, whilst rotating through the data for test subsets, thus avoiding the issues encountered by train/test validation.\n",
    "\n",
    "The general algorithm is as follows:\n",
    "* Split the full dataset into k equal length partitions\n",
    "    * select k-1 partitions as training data\n",
    "    * select the remaining partition as the test set\n",
    "* Train the model on the training set to predict labels on the test subset\n",
    "* Compute the test fold's error metric\n",
    "* Repeat the above steps k - 1 times, until each partition has been used as the test set for an iteration\n",
    "* Calculate the mean of the k error values\n",
    "\n",
    "Generally 5 or 10 folds are used for k-folds cross validation. I will be using 5 folds in my example below.\n",
    "\n",
    "I will use the best model from above which was using four features and a k value of 2. \n",
    "\n",
    "To perform k-fold cross validation I will instantiate an instance of the Kfold class from sklearn.model_selection.\n",
    "This class returns an iterator object which I can use in conjunction with the cross_val_score() function, also from sklearn.model_selection.\n",
    "\n",
    "I will specify the parameter 'scoring' to be neg_mean_squared_error' which will return the mean_sqared error for each k fold. "
   ]
  },
  {
   "cell_type": "code",
   "execution_count": 25,
   "metadata": {},
   "outputs": [],
   "source": [
    "kf = KFold(n_splits=5,shuffle=True,random_state=1)\n",
    "knn = KNeighborsRegressor(n_neighbors=2)\n",
    "mses = cross_val_score(knn,normalised_data[four_best_features],normalised_data['price'],scoring='neg_mean_squared_error',cv=kf)\n",
    "avg_rmses = np.mean([(np.abs(mse)**(1/2)) for mse in mses])"
   ]
  },
  {
   "cell_type": "code",
   "execution_count": 26,
   "metadata": {},
   "outputs": [
    {
     "data": {
      "text/plain": [
       "2650.2948055326297"
      ]
     },
     "execution_count": 26,
     "metadata": {},
     "output_type": "execute_result"
    }
   ],
   "source": [
    "avg_rmses"
   ]
  },
  {
   "cell_type": "markdown",
   "metadata": {},
   "source": [
    "Interestingly the RMSE was higher than observed when using test/train validation. This might demonstrate that some bias was being made towards the fixed training set I was using.\n",
    "Lets use cross validation to see what the optimum k value is when using the four feature model:"
   ]
  },
  {
   "cell_type": "code",
   "execution_count": 27,
   "metadata": {
    "collapsed": true
   },
   "outputs": [],
   "source": [
    "k_vals = np.arange(1,26,1)\n",
    "avg_rmses= {}\n",
    "for k in k_vals:\n",
    "    knn = KNeighborsRegressor(n_neighbors=k)\n",
    "    mses = cross_val_score(knn,normalised_data[four_best_features],normalised_data['price'],scoring='neg_mean_squared_error',cv=kf)\n",
    "    avg_rmses[k] = np.mean([(np.abs(mse)**(1/2)) for mse in mses])"
   ]
  },
  {
   "cell_type": "code",
   "execution_count": 28,
   "metadata": {},
   "outputs": [
    {
     "data": {
      "image/png": "[encoded data removed]",
      "text/plain": [
       "<matplotlib.figure.Figure at 0x7fc36cf8d2b0>"
      ]
     },
     "metadata": {},
     "output_type": "display_data"
    }
   ],
   "source": [
    "fig = plt.figure(figsize=(10,8))\n",
    "ax = plt.subplot(111)\n",
    "y = [v for k,v in avg_rmses.items()]\n",
    "x = k_vals\n",
    "ax.set_xlabel('k value')\n",
    "ax.set_ylabel('RMSE')\n",
    "ax.plot(x,y)\n",
    "plt.show()"
   ]
  },
  {
   "cell_type": "markdown",
   "metadata": {},
   "source": [
    "A k-value of 2 is still optimal, so we shall remain with this k-value. I shall now use cross-validation to find the best number of features to use, ranging from three to eight:"
   ]
  },
  {
   "cell_type": "code",
   "execution_count": 29,
   "metadata": {},
   "outputs": [
    {
     "data": {
      "text/plain": [
       "{3: 2777.2808125930624,\n",
       " 4: 2650.2948055326297,\n",
       " 5: 2589.2881025793604,\n",
       " 6: 2545.1436010538596,\n",
       " 7: 2543.434693706763,\n",
       " 8: 2753.7521087360119}"
      ]
     },
     "execution_count": 29,
     "metadata": {},
     "output_type": "execute_result"
    }
   ],
   "source": [
    "seven_best_features = ['horsepower', 'width', 'curb-weight' , 'city-mpg' , 'highway-mpg', 'length', 'wheel-base']\n",
    "eight_best_features = ['horsepower', 'width', 'curb-weight' , 'city-mpg' , 'highway-mpg', 'length', 'wheel-base','bore']\n",
    "knn = KNeighborsRegressor(n_neighbors=2)\n",
    "avg_rmses= {}\n",
    "features = [three_best_features, four_best_features, five_best_features,six_best_features,seven_best_features,eight_best_features]\n",
    "idx = 3\n",
    "for f in features:    \n",
    "    mses = cross_val_score(knn,normalised_data[f],normalised_data['price'],scoring='neg_mean_squared_error',cv=kf)\n",
    "    avg_rmses[idx] = np.mean([(np.abs(mse)**(1/2)) for mse in mses])\n",
    "    idx += 1\n",
    "avg_rmses"
   ]
  },
  {
   "cell_type": "code",
   "execution_count": 30,
   "metadata": {},
   "outputs": [
    {
     "data": {
      "image/png": "[encoded data removed]",
      "text/plain": [
       "<matplotlib.figure.Figure at 0x7fc36c5fd320>"
      ]
     },
     "metadata": {},
     "output_type": "display_data"
    }
   ],
   "source": [
    "fig = plt.figure(figsize=(10,8))\n",
    "ax = plt.subplot(111)\n",
    "y = [v for k,v in avg_rmses.items()]\n",
    "x = np.arange(3,9,1)\n",
    "ax.plot(x,y)\n",
    "ax.set_xlabel('Number of Features')\n",
    "ax.set_ylabel('RMSE')\n",
    "plt.show()"
   ]
  },
  {
   "cell_type": "markdown",
   "metadata": {},
   "source": [
    "So, in conclusion, by using cross-validation instead of test/train, we can conclude that the optimal k value is indeed 2, but by using 7 features instead of 4, we can achieve a much better RMSE.\n",
    "\n",
    "It should bbe noted however that the RMSE value does not give the whole picture, and a low RMSE is not always suggestive of an accurate model. A model has two sources of error, bias and variance.\n",
    "\n",
    "Bias is the result of bad assumptions, for example the assumption that a certain car feature relates to price. Variance, is error that occurs due to the variability of a model's predictions. If our dataset contained 1000 features, and we used all of them to train an incredibly complicated multivariant model, we will have very low bias but very high variance.\n",
    "\n",
    "In an ideal world, we want low bias but also low variance, but in reality it is a trade-off between the two.\n",
    "\n",
    "The average RMSE is a good measure of a model's bias, which is what we have above. To measure variance, we can use the standard deviation of the RMSE values. "
   ]
  },
  {
   "cell_type": "code",
   "execution_count": 31,
   "metadata": {},
   "outputs": [
    {
     "name": "stdout",
     "output_type": "stream",
     "text": [
      "{3: 2777.2808125930624, 4: 2650.2948055326297, 5: 2589.2881025793604, 6: 2545.1436010538596, 7: 2543.434693706763, 8: 2753.7521087360119}\n",
      "{3: 507.39753334430156, 4: 671.99569448092927, 5: 578.96677279927769, 6: 540.04969380871387, 7: 423.89142813070202, 8: 358.37575810568154}\n"
     ]
    }
   ],
   "source": [
    "seven_best_features = ['horsepower', 'width', 'curb-weight' , 'city-mpg' , 'highway-mpg', 'length', 'wheel-base']\n",
    "eight_best_features = ['horsepower', 'width', 'curb-weight' , 'city-mpg' , 'highway-mpg', 'length', 'wheel-base','bore']\n",
    "knn = KNeighborsRegressor(n_neighbors=2)\n",
    "std_rmses = {}\n",
    "avg_rmses= {}\n",
    "features = [three_best_features, four_best_features, five_best_features,six_best_features,seven_best_features,eight_best_features]\n",
    "idx = 3\n",
    "for f in features:    \n",
    "    mses = cross_val_score(knn,normalised_data[f],normalised_data['price'],scoring='neg_mean_squared_error',cv=kf)\n",
    "    avg_rmses[idx] = np.mean([(np.abs(mse)**(1/2)) for mse in mses])\n",
    "    std_rmses[idx] = np.std([(np.abs(mse)**(1/2)) for mse in mses])\n",
    "    idx += 1\n",
    "print(avg_rmses)\n",
    "print(std_rmses)"
   ]
  },
  {
   "cell_type": "code",
   "execution_count": 32,
   "metadata": {},
   "outputs": [
    {
     "data": {
      "image/png": "[encoded data removed]",
      "text/plain": [
       "<matplotlib.figure.Figure at 0x7fc36cee8b38>"
      ]
     },
     "metadata": {},
     "output_type": "display_data"
    }
   ],
   "source": [
    "fig = plt.figure(figsize=(10,8))\n",
    "ax = plt.subplot(111)\n",
    "y = [v for k,v in avg_rmses.items()]\n",
    "x = np.arange(3,9,1)\n",
    "ax.plot(x,y, label='Avg RMSE')\n",
    "y = [v for k,v in std_rmses.items()]\n",
    "x = np.arange(3,9,1)\n",
    "ax.plot(x,y, label='SD RMSE')\n",
    "\n",
    "ax.set_xlabel('Number of Features')\n",
    "ax.set_ylabel('RMSE')\n",
    "ax.legend(loc='upper center', bbox_to_anchor=(0.5, 1.05),\n",
    "          ncol=3, fancybox=True, shadow=True)\n",
    "plt.show()"
   ]
  },
  {
   "cell_type": "markdown",
   "metadata": {},
   "source": [
    "My conclusions remain very much the same, but I hope this has demonstrated how K-Nearest Neighbors can be applied to make predictions, and how hyperparameters can be adjusted, whilst investigating results with the correct validation methods, to produce the optimal models."
   ]
  },
  {
   "cell_type": "code",
   "execution_count": null,
   "metadata": {
    "collapsed": true
   },
   "outputs": [],
   "source": []
  }
 ],
 "metadata": {
  "kernelspec": {
   "display_name": "Python 3",
   "language": "python",
   "name": "python3"
  },
  "language_info": {
   "codemirror_mode": {
    "name": "ipython",
    "version": 3
   },
   "file_extension": ".py",
   "mimetype": "text/x-python",
   "name": "python",
   "nbconvert_exporter": "python",
   "pygments_lexer": "ipython3",
   "version": "3.5.2"
  }
 },
 "nbformat": 4,
 "nbformat_minor": 2
}
